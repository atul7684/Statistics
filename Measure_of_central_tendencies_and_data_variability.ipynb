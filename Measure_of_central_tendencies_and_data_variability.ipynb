{
  "cells": [
    {
      "cell_type": "code",
      "execution_count": null,
      "metadata": {
        "id": "J4t3JaZlRb_9"
      },
      "outputs": [],
      "source": [
        "## importing libraries\n",
        "import pandas as pd\n",
        "import numpy as np\n",
        "import matplotlib.pyplot as plt\n",
        "%matplotlib inline\n",
        "import seaborn as sns\n",
        "import warnings\n",
        "warnings.filterwarnings('ignore')"
      ]
    },
    {
      "cell_type": "code",
      "execution_count": null,
      "metadata": {
        "id": "XIY82ZxkRcAD"
      },
      "outputs": [],
      "source": [
        "## generating a random variable\n",
        "exp=np.random.normal(25000,15000,1000) # (mean, std dev, no. of data points)\n",
        "exp"
      ]
    },
    {
      "cell_type": "code",
      "execution_count": null,
      "metadata": {
        "id": "kubmqn5ZTtvj"
      },
      "outputs": [],
      "source": [
        "## plotting the randomly generated exp\n",
        "\n",
        "sns.displot(exp, kde=True)\n",
        "plt.show()"
      ]
    },
    {
      "cell_type": "code",
      "execution_count": null,
      "metadata": {
        "id": "mCDXFIVGRcAF"
      },
      "outputs": [],
      "source": [
        "## calculating mean\n",
        "np.mean(exp)"
      ]
    },
    {
      "cell_type": "code",
      "execution_count": null,
      "metadata": {
        "id": "oX08dPCqRcAF"
      },
      "outputs": [],
      "source": [
        "## calculating median\n",
        "np.median(exp)"
      ]
    },
    {
      "cell_type": "code",
      "execution_count": null,
      "metadata": {
        "id": "Hqxa-he2RcAG"
      },
      "outputs": [],
      "source": [
        "## adding one huge point,outlier    exp-->1000 datapoint + 1 more dt pt\n",
        "exp1=np.append(exp,[100000000])"
      ]
    },
    {
      "cell_type": "code",
      "execution_count": null,
      "metadata": {
        "id": "JaduRSfGUEy0"
      },
      "outputs": [],
      "source": [
        "import seaborn as sns\n",
        "sns.distplot(exp1)"
      ]
    },
    {
      "cell_type": "code",
      "execution_count": null,
      "metadata": {
        "id": "fb3ncYKNRcAH"
      },
      "outputs": [],
      "source": [
        "np.mean(exp1)"
      ]
    },
    {
      "cell_type": "code",
      "execution_count": null,
      "metadata": {
        "id": "37HCP4vmRcAH"
      },
      "outputs": [],
      "source": [
        "np.median(exp1) # skewed distribution"
      ]
    },
    {
      "cell_type": "code",
      "execution_count": null,
      "metadata": {
        "id": "cN_EPx7TRcAJ"
      },
      "outputs": [],
      "source": [
        "from scipy import stats"
      ]
    },
    {
      "cell_type": "code",
      "execution_count": null,
      "metadata": {
        "id": "7fzsH4nQTtvl"
      },
      "outputs": [],
      "source": [
        "print(stats.skew(exp))\n",
        "print(stats.skew(exp1))"
      ]
    },
    {
      "cell_type": "code",
      "execution_count": null,
      "metadata": {
        "id": "9ZimJn_8Ttvm"
      },
      "outputs": [],
      "source": [
        "print(stats.kurtosis(exp))\n",
        "print(stats.kurtosis(exp1))"
      ]
    },
    {
      "cell_type": "code",
      "execution_count": null,
      "metadata": {
        "id": "6JkAy89ETtvm"
      },
      "outputs": [],
      "source": [
        "# 1st has lighter tails, hence it is platykurtic\n",
        "# 2nd has high kurtosis value, which means it has extraordinary number of extreme values far from mean"
      ]
    },
    {
      "cell_type": "code",
      "execution_count": null,
      "metadata": {
        "id": "yEHrZJstRcAI"
      },
      "outputs": [],
      "source": [
        "## mode - categorical / discrete\n",
        "int_ran=np.random.randint(15,high=50,size=200)"
      ]
    },
    {
      "cell_type": "code",
      "execution_count": null,
      "metadata": {
        "id": "M-_LoQyuTtvm"
      },
      "outputs": [],
      "source": [
        "int_ran"
      ]
    },
    {
      "cell_type": "code",
      "execution_count": null,
      "metadata": {
        "id": "QKhRx-TZRcAK"
      },
      "outputs": [],
      "source": [
        "stats.mode(int_ran)"
      ]
    },
    {
      "cell_type": "code",
      "execution_count": null,
      "metadata": {
        "id": "JN6F2ALKRcAL"
      },
      "outputs": [],
      "source": [
        "## calculating IQR\n",
        "data=[346,47,56,2,36,39,75,79,79,88,89,91,92,93,96,97,101,105,112,115]"
      ]
    },
    {
      "cell_type": "code",
      "execution_count": null,
      "metadata": {
        "id": "bD3ejF_lRcAL"
      },
      "outputs": [],
      "source": [
        "IQR= stats.iqr(data,interpolation='midpoint')\n",
        "\n",
        "#interpolation = 'midpoint' --> provides more accurate estimate of the quartiles when data\n",
        "# points are unevenly spaced"
      ]
    },
    {
      "cell_type": "code",
      "execution_count": null,
      "metadata": {
        "id": "TY0nmBODRcAM"
      },
      "outputs": [],
      "source": [
        "IQR # this is the spread of the middle 50% of values in the dataset"
      ]
    },
    {
      "cell_type": "code",
      "execution_count": null,
      "metadata": {
        "id": "rJdiczFIRcAN"
      },
      "outputs": [],
      "source": [
        "## variance and standard deviation\n",
        "np.var(data)"
      ]
    },
    {
      "cell_type": "code",
      "execution_count": null,
      "metadata": {
        "id": "8ar7Fq5lRcAN"
      },
      "outputs": [],
      "source": [
        "np.std(data) # sqrt(var)"
      ]
    },
    {
      "cell_type": "code",
      "execution_count": null,
      "metadata": {
        "id": "_UZoy6EwTtvo"
      },
      "outputs": [],
      "source": [
        "print(\"12th percentile : \",\n",
        "       np.percentile(data, 12))\n",
        "\n",
        "print(\"50th percentile: \",\n",
        "       np.percentile(data, 50))\n"
      ]
    },
    {
      "cell_type": "markdown",
      "metadata": {
        "id": "SHySbWR_Ttvo"
      },
      "source": [
        "## QQ Plot"
      ]
    },
    {
      "cell_type": "code",
      "execution_count": null,
      "metadata": {
        "id": "h4pmDxeHTtvp"
      },
      "outputs": [],
      "source": [
        "# to do a normality check\n",
        "import statsmodels.api as sm\n",
        "\n",
        "\n",
        "# np.random generates different random numbers everytime the code is executed.\n",
        "data_points = np.random.normal(0, 1, 100)\n",
        "sm.qqplot(data_points, line ='45') # That data_points that are normally distributed\n",
        "plt.show()"
      ]
    },
    {
      "cell_type": "code",
      "execution_count": null,
      "metadata": {
        "id": "aKDzjDwVTtvp"
      },
      "outputs": [],
      "source": [
        "data=np.random.randint(0,100,100)\n",
        "sm.qqplot(data, line ='45') # data is not normally distirbuted.\n",
        "py.show()"
      ]
    },
    {
      "cell_type": "markdown",
      "metadata": {
        "id": "FiK9FesOTtvp"
      },
      "source": [
        "## Correlation"
      ]
    },
    {
      "cell_type": "code",
      "execution_count": null,
      "metadata": {
        "id": "hgKzd19-Ttvq"
      },
      "outputs": [],
      "source": [
        "# loading dataset\n",
        "df= sns.load_dataset(\"iris\")\n",
        "#df = pd.read_csv()"
      ]
    },
    {
      "cell_type": "code",
      "execution_count": null,
      "metadata": {
        "id": "GBHQ5XJyTtvq"
      },
      "outputs": [],
      "source": [
        "df = df.drop('species', axis=1)"
      ]
    },
    {
      "cell_type": "code",
      "execution_count": null,
      "metadata": {
        "id": "9sLR_ikHTtvq"
      },
      "outputs": [],
      "source": [
        "tc = df.corr()\n",
        "tc"
      ]
    },
    {
      "cell_type": "code",
      "execution_count": null,
      "metadata": {
        "id": "oo0mSSgaTtvq"
      },
      "outputs": [],
      "source": []
    }
  ],
  "metadata": {
    "colab": {
      "provenance": []
    },
    "kernelspec": {
      "display_name": "Python 3 (ipykernel)",
      "language": "python",
      "name": "python3"
    },
    "language_info": {
      "codemirror_mode": {
        "name": "ipython",
        "version": 3
      },
      "file_extension": ".py",
      "mimetype": "text/x-python",
      "name": "python",
      "nbconvert_exporter": "python",
      "pygments_lexer": "ipython3",
      "version": "3.11.5"
    }
  },
  "nbformat": 4,
  "nbformat_minor": 0
}